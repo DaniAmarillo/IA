{
  "nbformat": 4,
  "nbformat_minor": 0,
  "metadata": {
    "colab": {
      "provenance": [],
      "authorship_tag": "ABX9TyNyUEcRhmL1EN+YC0PyXt9Y",
      "include_colab_link": true
    },
    "kernelspec": {
      "name": "python3",
      "display_name": "Python 3"
    },
    "language_info": {
      "name": "python"
    }
  },
  "cells": [
    {
      "cell_type": "markdown",
      "metadata": {
        "id": "view-in-github",
        "colab_type": "text"
      },
      "source": [
        "<a href=\"https://colab.research.google.com/github/DaniAmarillo/IA/blob/main/Clase_Iterada.ipynb\" target=\"_parent\"><img src=\"https://colab.research.google.com/assets/colab-badge.svg\" alt=\"Open In Colab\"/></a>"
      ]
    },
    {
      "cell_type": "markdown",
      "source": [
        "#Tarea 3"
      ],
      "metadata": {
        "id": "_5hrJUfhKER1"
      }
    },
    {
      "cell_type": "code",
      "execution_count": 11,
      "metadata": {
        "id": "tItqm1zuHNaW"
      },
      "outputs": [],
      "source": [
        "import pandas as pd\n",
        "\n",
        "class DataIterator:\n",
        "    def __init__(self, archivo):\n",
        "        self.datos = pd.read_csv(archivo)\n",
        "        self.index = 0\n",
        "\n",
        "    def __iter__(self):\n",
        "        return self\n",
        "\n",
        "    def __next__(self):\n",
        "        if self.index >= len(self.datos):\n",
        "            raise StopIteration\n",
        "\n",
        "        # Extraer los dos siguientes datos\n",
        "        fila = self.datos.iloc[self.index]\n",
        "        dato_1 = fila[0]\n",
        "        dato_2 = fila[1]\n",
        "        \n",
        "        # Incrementar el índice para la próxima llamada\n",
        "        self.index += 2\n",
        "        \n",
        "        return dato_1, dato_2\n"
      ]
    },
    {
      "cell_type": "code",
      "source": [
        "url = 'https://raw.githubusercontent.com/AprendizajeProfundo/diplomado-ciencia-de-datos/5981db8517f000b55dff8f13319a1108495774a0/Aprendizaje_supervisado/Datos/Iris.csv'\n",
        "df = DataIterator(url)\n",
        "obj = iter(df)\n",
        "for i in range(len(df.datos)):\n",
        "  print(next(obj))"
      ],
      "metadata": {
        "colab": {
          "base_uri": "https://localhost:8080/",
          "height": 1000
        },
        "id": "K1hNIWAUgvvx",
        "outputId": "603cd3a8-8599-4330-9dbb-822d046f4fc9"
      },
      "execution_count": 38,
      "outputs": [
        {
          "output_type": "stream",
          "name": "stdout",
          "text": [
            "(1, 5.1)\n",
            "(3, 4.7)\n",
            "(5, 5.0)\n",
            "(7, 4.6)\n",
            "(9, 4.4)\n",
            "(11, 5.4)\n",
            "(13, 4.8)\n",
            "(15, 5.8)\n",
            "(17, 5.4)\n",
            "(19, 5.7)\n",
            "(21, 5.4)\n",
            "(23, 4.6)\n",
            "(25, 4.8)\n",
            "(27, 5.0)\n",
            "(29, 5.2)\n",
            "(31, 4.8)\n",
            "(33, 5.2)\n",
            "(35, 4.9)\n",
            "(37, 5.5)\n",
            "(39, 4.4)\n",
            "(41, 5.0)\n",
            "(43, 4.4)\n",
            "(45, 5.1)\n",
            "(47, 5.1)\n",
            "(49, 5.3)\n",
            "(51, 7.0)\n",
            "(53, 6.9)\n",
            "(55, 6.5)\n",
            "(57, 6.3)\n",
            "(59, 6.6)\n",
            "(61, 5.0)\n",
            "(63, 6.0)\n",
            "(65, 5.6)\n",
            "(67, 5.6)\n",
            "(69, 6.2)\n",
            "(71, 5.9)\n",
            "(73, 6.3)\n",
            "(75, 6.4)\n",
            "(77, 6.8)\n",
            "(79, 6.0)\n",
            "(81, 5.5)\n",
            "(83, 5.8)\n",
            "(85, 5.4)\n",
            "(87, 6.7)\n",
            "(89, 5.6)\n",
            "(91, 5.5)\n",
            "(93, 5.8)\n",
            "(95, 5.6)\n",
            "(97, 5.7)\n",
            "(99, 5.1)\n",
            "(101, 6.3)\n",
            "(103, 7.1)\n",
            "(105, 6.5)\n",
            "(107, 4.9)\n",
            "(109, 6.7)\n",
            "(111, 6.5)\n",
            "(113, 6.8)\n",
            "(115, 5.8)\n",
            "(117, 6.5)\n",
            "(119, 7.7)\n",
            "(121, 6.9)\n",
            "(123, 7.7)\n",
            "(125, 6.7)\n",
            "(127, 6.2)\n",
            "(129, 6.4)\n",
            "(131, 7.4)\n",
            "(133, 6.4)\n",
            "(135, 6.1)\n",
            "(137, 6.3)\n",
            "(139, 6.0)\n",
            "(141, 6.7)\n",
            "(143, 5.8)\n",
            "(145, 6.7)\n",
            "(147, 6.3)\n",
            "(149, 6.2)\n"
          ]
        },
        {
          "output_type": "error",
          "ename": "StopIteration",
          "evalue": "ignored",
          "traceback": [
            "\u001b[0;31m---------------------------------------------------------------------------\u001b[0m",
            "\u001b[0;31mStopIteration\u001b[0m                             Traceback (most recent call last)",
            "\u001b[0;32m<ipython-input-38-73be37d303d6>\u001b[0m in \u001b[0;36m<module>\u001b[0;34m\u001b[0m\n\u001b[1;32m      3\u001b[0m \u001b[0mobj\u001b[0m \u001b[0;34m=\u001b[0m \u001b[0miter\u001b[0m\u001b[0;34m(\u001b[0m\u001b[0mdf\u001b[0m\u001b[0;34m)\u001b[0m\u001b[0;34m\u001b[0m\u001b[0;34m\u001b[0m\u001b[0m\n\u001b[1;32m      4\u001b[0m \u001b[0;32mfor\u001b[0m \u001b[0mi\u001b[0m \u001b[0;32min\u001b[0m \u001b[0mrange\u001b[0m\u001b[0;34m(\u001b[0m\u001b[0mlen\u001b[0m\u001b[0;34m(\u001b[0m\u001b[0mdf\u001b[0m\u001b[0;34m.\u001b[0m\u001b[0mdatos\u001b[0m\u001b[0;34m)\u001b[0m\u001b[0;34m)\u001b[0m\u001b[0;34m:\u001b[0m\u001b[0;34m\u001b[0m\u001b[0;34m\u001b[0m\u001b[0m\n\u001b[0;32m----> 5\u001b[0;31m   \u001b[0mprint\u001b[0m\u001b[0;34m(\u001b[0m\u001b[0mnext\u001b[0m\u001b[0;34m(\u001b[0m\u001b[0mobj\u001b[0m\u001b[0;34m)\u001b[0m\u001b[0;34m)\u001b[0m\u001b[0;34m\u001b[0m\u001b[0;34m\u001b[0m\u001b[0m\n\u001b[0m",
            "\u001b[0;32m<ipython-input-11-0fddf625aab2>\u001b[0m in \u001b[0;36m__next__\u001b[0;34m(self)\u001b[0m\n\u001b[1;32m     13\u001b[0m     \u001b[0;32mdef\u001b[0m \u001b[0m__next__\u001b[0m\u001b[0;34m(\u001b[0m\u001b[0mself\u001b[0m\u001b[0;34m)\u001b[0m\u001b[0;34m:\u001b[0m\u001b[0;34m\u001b[0m\u001b[0;34m\u001b[0m\u001b[0m\n\u001b[1;32m     14\u001b[0m         \u001b[0;32mif\u001b[0m \u001b[0mself\u001b[0m\u001b[0;34m.\u001b[0m\u001b[0mindex\u001b[0m \u001b[0;34m>=\u001b[0m \u001b[0mlen\u001b[0m\u001b[0;34m(\u001b[0m\u001b[0mself\u001b[0m\u001b[0;34m.\u001b[0m\u001b[0mdatos\u001b[0m\u001b[0;34m)\u001b[0m\u001b[0;34m:\u001b[0m\u001b[0;34m\u001b[0m\u001b[0;34m\u001b[0m\u001b[0m\n\u001b[0;32m---> 15\u001b[0;31m             \u001b[0;32mraise\u001b[0m \u001b[0mStopIteration\u001b[0m\u001b[0;34m\u001b[0m\u001b[0;34m\u001b[0m\u001b[0m\n\u001b[0m\u001b[1;32m     16\u001b[0m \u001b[0;34m\u001b[0m\u001b[0m\n\u001b[1;32m     17\u001b[0m         \u001b[0;31m# Extraer los dos siguientes datos\u001b[0m\u001b[0;34m\u001b[0m\u001b[0;34m\u001b[0m\u001b[0;34m\u001b[0m\u001b[0m\n",
            "\u001b[0;31mStopIteration\u001b[0m: "
          ]
        }
      ]
    }
  ]
}