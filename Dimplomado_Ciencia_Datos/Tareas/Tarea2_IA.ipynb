{
  "nbformat": 4,
  "nbformat_minor": 0,
  "metadata": {
    "colab": {
      "provenance": []
    },
    "kernelspec": {
      "name": "python3",
      "display_name": "Python 3"
    },
    "language_info": {
      "name": "python"
    }
  },
  "cells": [
    {
      "cell_type": "markdown",
      "source": [
        "[![Abrir en Colab](https://colab.research.google.com/assets/colab-badge.svg)](https://colab.research.google.com/drive/1_5u4c3LV-GIxmEKQucDyR7w650xFRNtO?authuser=1#scrollTo=Bs9hH58rDurKx)"
      ],
      "metadata": {
        "id": "Bs9hH58rDurK"
      }
    },
    {
      "cell_type": "markdown",
      "source": [
        "#**Funciones**"
      ],
      "metadata": {
        "id": "Uxr7ieYUgSqd"
      }
    },
    {
      "cell_type": "code",
      "execution_count": 15,
      "metadata": {
        "colab": {
          "base_uri": "https://localhost:8080/"
        },
        "id": "uSTnmfWZf0p4",
        "outputId": "75fab654-4573-471f-cb6b-7ada49b9e57b"
      },
      "outputs": [
        {
          "output_type": "stream",
          "name": "stdout",
          "text": [
            "Su edad es 21\n"
          ]
        }
      ],
      "source": [
        "#@title Calculadora de edad\n",
        "''' La funcion recibe el parámetro fecha que debe estar en el formato dd/mm/aaaa y calcula su edad'''\n",
        "def calculadora_edad(fecha):\n",
        "   lst_fecha = fecha.split(\"/\")\n",
        "   dia = int(lst_fecha[0])\n",
        "   mes = int(lst_fecha[1])\n",
        "   yr = int(lst_fecha[2])\n",
        "   dia_actual = 15\n",
        "   mes_actual = 2\n",
        "   yr_actual = 2023\n",
        "   if dia <= dia_actual and mes <= mes_actual:\n",
        "      edad =  yr_actual - yr\n",
        "   else:\n",
        "      edad = yr_actual - yr - 1\n",
        "   print(\"Su edad es {}\".format(edad))\n",
        "calculadora_edad(\"10/02/2002\")"
      ]
    },
    {
      "cell_type": "code",
      "source": [
        "#@title Centrar Texto\n",
        "def EscribirCentrado(texto):\n",
        "  print(texto.center(100))\n",
        "EscribirCentrado(\"8\")"
      ],
      "metadata": {
        "colab": {
          "base_uri": "https://localhost:8080/"
        },
        "id": "9zwF77qyna9K",
        "outputId": "dab4837d-57c4-473e-d7ef-6508c254cff7"
      },
      "execution_count": 16,
      "outputs": [
        {
          "output_type": "stream",
          "name": "stdout",
          "text": [
            "                                                 8                                                  \n"
          ]
        }
      ]
    },
    {
      "cell_type": "code",
      "source": [
        "#@title Italica y Negrilla\n",
        "def Negrillas(fn):\n",
        "    def Negrilla_Markdwn():\n",
        "        return \"**\" + fn() + \"**\"\n",
        "    return Negrilla_Markdwn\n",
        "def Italica(fn):\n",
        "    def Italica_Markdwn():\n",
        "        return \"*\" + fn() + \"*\"\n",
        "    return Italica_Markdwn\n",
        "def Negritalica(fn):\n",
        "    def NegrIt_Markdwn():\n",
        "        return \"***\" + fn() + \"***\"\n",
        "    return NegrIt_Markdwn\n",
        "@Negritalica\n",
        "def Hola():\n",
        "  return \"Hola inmundo\"\n",
        "print(Hola())"
      ],
      "metadata": {
        "colab": {
          "base_uri": "https://localhost:8080/"
        },
        "id": "yAnpPA4IpM0o",
        "outputId": "467ca2cd-88fd-4774-c99b-6b46f816a6cd"
      },
      "execution_count": 30,
      "outputs": [
        {
          "output_type": "stream",
          "name": "stdout",
          "text": [
            "***Hola inmundo***\n"
          ]
        }
      ]
    },
    {
      "cell_type": "code",
      "source": [
        "#@title ¿És múltiplo?\n",
        "def Multiplos():\n",
        "  a = int(input(\"ingrese el valor de a:\"))\n",
        "  b = int(input(\"ingrese el valor de b:\"))\n",
        "  if b == 0 or a == 0:\n",
        "    print(\"Ni a ni b pueden ser 0\")\n",
        "  elif a % b == 0:\n",
        "    print(\"{} es multiplo de {}\".format(a,b))\n",
        "  elif b % a == 0:\n",
        "    print(\"{} es multiplo de {}\".format(b,a))\n",
        "  elif b == a:\n",
        "    print(\"b es igual que a\")\n",
        "  else: \n",
        "    print(\"{} y {} no son múltiplos\".format(a,b))\n",
        "Multiplos()"
      ],
      "metadata": {
        "id": "CbHOoxkO09Lk",
        "colab": {
          "base_uri": "https://localhost:8080/"
        },
        "outputId": "b96783f6-3cde-4d57-9a3f-66b4e22273e6"
      },
      "execution_count": 18,
      "outputs": [
        {
          "output_type": "stream",
          "name": "stdout",
          "text": [
            "ingrese el valor de a:5\n",
            "ingrese el valor de b:800\n",
            "800 es multiplo de 5\n"
          ]
        }
      ]
    },
    {
      "cell_type": "code",
      "source": [
        "#@title Creación de lista aleatoria\n",
        "import random\n",
        "temperaturas_bog = []\n",
        "for i in range(0,24):\n",
        "  n = random.randint(6,21)\n",
        "  temperaturas_bog.append(n)"
      ],
      "metadata": {
        "id": "YQfO8bxYDCZl"
      },
      "execution_count": 31,
      "outputs": []
    },
    {
      "cell_type": "code",
      "source": [
        "#@title Temperatura de media\n",
        "def Temperatura_promedio(lista:list):\n",
        "  sum = 0\n",
        "  for i in range(len(lista)):\n",
        "    sum += lista[i] /len(lista)\n",
        "  return sum\n",
        "Temperatura_promedio(temperaturas_bog)"
      ],
      "metadata": {
        "colab": {
          "base_uri": "https://localhost:8080/"
        },
        "id": "nV_YF0qlAEes",
        "outputId": "eaeb1fec-f97f-4149-8470-5cceceaec63e"
      },
      "execution_count": 20,
      "outputs": [
        {
          "output_type": "execute_result",
          "data": {
            "text/plain": [
              "12.66666666666667"
            ]
          },
          "metadata": {},
          "execution_count": 20
        }
      ]
    },
    {
      "cell_type": "code",
      "source": [
        "#@title Espaciado\n",
        "def ConvertirEspaciado(texto:str):\n",
        "  return \" \".join(texto)\n",
        "  return texto\n",
        "ConvertirEspaciado(\"Hola,tú\")\n",
        "\n"
      ],
      "metadata": {
        "colab": {
          "base_uri": "https://localhost:8080/",
          "height": 36
        },
        "id": "aOq-1hFzFZq4",
        "outputId": "6ee48955-494a-4e90-d1d6-99608f9df602"
      },
      "execution_count": 21,
      "outputs": [
        {
          "output_type": "execute_result",
          "data": {
            "text/plain": [
              "'H o l a , t ú'"
            ],
            "application/vnd.google.colaboratory.intrinsic+json": {
              "type": "string"
            }
          },
          "metadata": {},
          "execution_count": 21
        }
      ]
    },
    {
      "cell_type": "code",
      "source": [
        "#@title Mínimo y Máximo\n",
        "def calcularMaxMin(lista:list):\n",
        "  maximo = max(lista)\n",
        "  minimo = min(lista)\n",
        "  return {\"Min\":minimo,\"Max\":maximo}\n",
        "calcularMaxMin(temperaturas_bog)"
      ],
      "metadata": {
        "colab": {
          "base_uri": "https://localhost:8080/"
        },
        "id": "1LBVqOwkIRf1",
        "outputId": "53371cba-23ad-4c77-c56a-57bbd8c933bf"
      },
      "execution_count": 22,
      "outputs": [
        {
          "output_type": "execute_result",
          "data": {
            "text/plain": [
              "{'Min': 6, 'Max': 21}"
            ]
          },
          "metadata": {},
          "execution_count": 22
        }
      ]
    },
    {
      "cell_type": "code",
      "source": [
        "#@title Area de circunferencia\n",
        "from math import pi\n",
        "def Area_circunferencia(radio:float):\n",
        "  perimetro = 2*radio*pi\n",
        "  area = pi*(radio**2)\n",
        "  return {\"Perimetro\":perimetro, \"Area\":area} \n",
        "Area_circunferencia(5)"
      ],
      "metadata": {
        "colab": {
          "base_uri": "https://localhost:8080/"
        },
        "id": "bNJ0HtucJVEE",
        "outputId": "ca59c3b0-e560-4d71-9fa8-48305bfdf3b4"
      },
      "execution_count": 23,
      "outputs": [
        {
          "output_type": "execute_result",
          "data": {
            "text/plain": [
              "{'Perimetro': 31.41592653589793, 'Area': 78.53981633974483}"
            ]
          },
          "metadata": {},
          "execution_count": 23
        }
      ]
    },
    {
      "cell_type": "code",
      "source": [
        "#@title Login\n",
        "def Login(usuario:str,contrasena:str,trynum:int):\n",
        "  if usuario == \"usuario1\" and contrasena == \"asdasd\":\n",
        "    return True\n",
        "  else: \n",
        "    trynum += 1\n",
        "    return trynum\n",
        "Login(\"usuario1\",\"contrasena\",0)\n",
        "Login(\"usuario1\",\"asdasd\",1)"
      ],
      "metadata": {
        "colab": {
          "base_uri": "https://localhost:8080/"
        },
        "id": "SVius_Z-LxGt",
        "outputId": "d4b3a6f0-9403-4a9c-fd20-477ced39200d"
      },
      "execution_count": 24,
      "outputs": [
        {
          "output_type": "execute_result",
          "data": {
            "text/plain": [
              "True"
            ]
          },
          "metadata": {},
          "execution_count": 24
        }
      ]
    },
    {
      "cell_type": "code",
      "source": [
        "#@title Factorial con recursividad\n",
        "def Factorial(x:int):\n",
        "  if x == 1:\n",
        "     return 1\n",
        "  else:\n",
        "     return x*Factorial(x-1)\n",
        "Factorial(5)\n"
      ],
      "metadata": {
        "colab": {
          "base_uri": "https://localhost:8080/"
        },
        "id": "m1GJTd_s8--b",
        "outputId": "8abc4ff9-60b5-49db-de9a-3a339c6b1e8a"
      },
      "execution_count": 25,
      "outputs": [
        {
          "output_type": "execute_result",
          "data": {
            "text/plain": [
              "120"
            ]
          },
          "metadata": {},
          "execution_count": 25
        }
      ]
    },
    {
      "cell_type": "code",
      "source": [
        "#@title Función segundos y horas\n",
        "# Función para convertir un tiempo dado en horas, minutos y segundos a segundos\n",
        "def tiempo_a_segundos(horas, minutos, segundos):\n",
        "    total_segundos = horas * 3600 + minutos * 60 + segundos\n",
        "    return total_segundos\n",
        "\n",
        "# Función para convertir un tiempo dado en segundos a horas, minutos y segundos\n",
        "def segundos_a_tiempo(segundos):\n",
        "    horas = segundos // 3600\n",
        "    minutos = (segundos % 3600) // 60\n",
        "    segundos = segundos % 60\n",
        "    return horas, minutos, segundos\n",
        "tiempo_a_segundos(24,4,5)\n",
        "segundos_a_tiempo(500)"
      ],
      "metadata": {
        "colab": {
          "base_uri": "https://localhost:8080/"
        },
        "id": "gT_p6sV7-qjr",
        "outputId": "273ff419-196c-492c-90e3-00c3e605f942"
      },
      "execution_count": 26,
      "outputs": [
        {
          "output_type": "execute_result",
          "data": {
            "text/plain": [
              "(0, 8, 20)"
            ]
          },
          "metadata": {},
          "execution_count": 26
        }
      ]
    },
    {
      "cell_type": "code",
      "source": [
        "#@title invertir tupla\n",
        "def Invertir_tupla(tupla:tuple):\n",
        "  return tupla[::-1]\n",
        "Invertir_tupla((1,2,3,4))"
      ],
      "metadata": {
        "colab": {
          "base_uri": "https://localhost:8080/"
        },
        "id": "ogGoQQK__LGQ",
        "outputId": "6ed6b9e7-33f4-4ca9-f4a6-f9ef61c817a3"
      },
      "execution_count": 27,
      "outputs": [
        {
          "output_type": "execute_result",
          "data": {
            "text/plain": [
              "(4, 3, 2, 1)"
            ]
          },
          "metadata": {},
          "execution_count": 27
        }
      ]
    },
    {
      "cell_type": "code",
      "source": [
        "#@title FuncTools\n",
        "import functools\n",
        "\n",
        "def media_geometrica(lista):\n",
        "   producto = functools.reduce(lambda x, y: x * y, lista)\n",
        "   media_geom = producto ** (1/len(lista))\n",
        "    \n",
        "   return media_geom\n",
        "media_geometrica(temperaturas_bog)"
      ],
      "metadata": {
        "colab": {
          "base_uri": "https://localhost:8080/"
        },
        "id": "P7Extp3kApI9",
        "outputId": "5d76c5bd-4069-49ae-a943-0d64a5933614"
      },
      "execution_count": 29,
      "outputs": [
        {
          "output_type": "execute_result",
          "data": {
            "text/plain": [
              "11.756533627024405"
            ]
          },
          "metadata": {},
          "execution_count": 29
        }
      ]
    }
  ]
}