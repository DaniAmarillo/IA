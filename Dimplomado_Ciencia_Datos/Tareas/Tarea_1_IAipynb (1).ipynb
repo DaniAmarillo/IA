{
  "nbformat": 4,
  "nbformat_minor": 0,
  "metadata": {
    "colab": {
      "provenance": []
    },
    "kernelspec": {
      "name": "python3",
      "display_name": "Python 3"
    },
    "language_info": {
      "name": "python"
    }
  },
  "cells": [
    {
      "cell_type": "markdown",
      "source": [
        "[![Abrir en Colab](https://colab.research.google.com/assets/colab-badge.svg)](https://colab.research.google.com/github/DaniAmarillo/IA/blob/main/Dimplomado_Ciencia_Datos/Tareas/Tarea_1_IAipynb.ipynb?authuser=1#scrollTo=VUYuqshd5FMH)"
      ],
      "metadata": {
        "id": "VUYuqshd5FMH"
      }
    },
    {
      "cell_type": "markdown",
      "source": [
        "#**¿Qué es Desviación estandar?**\n",
        "![imagen_2023-02-13_194416079.png](data:image/png;base64,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)"
      ],
      "metadata": {
        "id": "8B9_bZTPNwoU"
      }
    },
    {
      "cell_type": "markdown",
      "source": [
        "###**Autor:** Daniel Eduardo Amarillo Echeverry\n",
        "\n",
        "/* Foto /*\n",
        "\n",
        "####Soy un estudiante de 22 años apasionado por la inteligencia artificial, el machine learning y la ciencia de datos en general. estudiante de Estadística de la Universidad de Colombia, me gusta explorar soluciones innovadoras en el campo. Entusiasmado por descubrir patrones y tendencias en los datos, y usar ese conocimiento para mejorar la vida humana. Estoy comprometido con mi desarrollo profesional y estoy constantemente buscando nuevas oportunidades para aprender y crecer."
      ],
      "metadata": {
        "id": "d_YwznUIY7kj"
      }
    },
    {
      "cell_type": "markdown",
      "source": [
        "#**Desviación estandar**\n",
        "####La desviación estándar es una medida de la variabilidad o dispersión de un conjunto de datos en torno a su media o promedio. Es una medida de la \"normalidad\" o la distribución de los datos en relación a su media.\n",
        "####Es ampliamente utilizada en la estadística para detectar los datos atípicos, la construcción de intervalos de confianza o la construcción de pruebas estadísticas para evaluar la significancia.\n",
        "\n",
        "#### Su fórmula matemática es la siguiente\n",
        "\n",
        "$$\n",
        "\\sigma = \\sqrt{\\frac{\\sum_{i=1}^{n} (x_i - \\mu)^2}{n-1}}\n",
        "$$\n",
        "\n",
        "####donde:\n",
        "<h4>$\\sigma$ es la desviación estándar\n",
        "$x_i$ es el $i$-ésimo valor en el conjunto de datos\n",
        "$\\mu$ es la media o el promedio de los datos\n",
        "$n$ es el número de datos en el conjunto.</h4>\n",
        "\n",
        "## **Ejemplo:**\n",
        "\n",
        "<h4>En un curso vacacional se toma la edad de los niños participantes que son 9, 3, 8, 9 y 16 y nos gustaria saber cuando un niño es demasiado pequeño o demasiado grande con respecto al grupo. Para esto necesitamos calcular la desviación estandar del grupo de participantes.</h4>\n",
        "\n",
        "####Lo primero que debemos hacer es calcular la media aritmética:\n",
        "\n",
        "$$\\mu = \\frac{9+3+8+9+16}{5} = 9$$\n",
        "\n",
        "####Despues calculamos la diferencia cuadrada entre cada valor y la media:\n",
        "\n",
        "$$(9 - 9)^2 = 0$$\n",
        "$$(3 - 9)^2 = 36$$\n",
        "$$(8 - 9)^2 = 1$$\n",
        "$$(9 - 9)^2 = 0$$\n",
        "$$(16 - 9)^2 = 49$$\n",
        "\n",
        "####Sumamos las diferencias cuadradas:\n",
        "$$\\sum_{i=1}^{5} (x_i - \\mu)^2 = 0 + 36 + 1 + 0 + 49 = 86$$\n",
        "\n",
        "####Y por último calculamos la desviación estándar:\n",
        "$$\\sigma = \\sqrt{\\frac{86}{5-1}} = \\sqrt{\\frac{86}{4}} = \\sqrt{21.5} \\approx 4.64$$\n",
        "\n",
        "<h4>Así sumando la desviación con la media aritmetica y restandola podemos determinar que un niño es pequeño cuando tiene menos de 4 años y más grande de lo habitual cuando tiene más de 14 años. </h4>\n",
        "\n",
        "\n",
        "\n"
      ],
      "metadata": {
        "id": "Fa84pED6hX-U"
      }
    },
    {
      "cell_type": "markdown",
      "source": [
        "#Referencias\n",
        "\n",
        "Definición consultada en:\n",
        "*  López, J. F. (2017, octubre 2). Desviación estándar o típica. Economipedia.\n",
        "[https://economipedia.com/definiciones/desviacion-tipica.html](https://economipedia.com/definiciones/desviacion-tipica.html) \n",
        "\n",
        "Ejemplo basado en los datos de:\n",
        "*   Software DELSOL. (2019, junio 3). Desviación Típica. Sdelsol.com. [ https://www.sdelsol.com/glosario/desviacion-tipica/]( https://www.sdelsol.com/glosario/desviacion-tipica/)\n",
        "\n",
        "\n",
        "\n"
      ],
      "metadata": {
        "id": "DHTS2_HG0Weu"
      }
    }
  ]
}